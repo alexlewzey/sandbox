{
 "cells": [
  {
   "cell_type": "markdown",
   "metadata": {},
   "source": [
    "### Regression"
   ]
  },
  {
   "cell_type": "code",
   "execution_count": 21,
   "metadata": {},
   "outputs": [],
   "source": [
    "# default modules\n",
    "import math\n",
    "import numpy as np\n",
    "import pandas as pd\n",
    "import matplotlib.pyplot as plt\n",
    "import seaborn as sns\n",
    "from typing import List, Dict, Tuple, Callable, Union\n",
    "%matplotlib inline\n",
    "import os\n",
    "import pickle\n",
    "import shelve\n",
    "import functools\n",
    "import time\n",
    "import logging\n",
    "import pprint\n",
    "import re\n",
    "import itertools\n",
    "\n",
    "import warnings\n",
    "warnings.simplefilter('ignore')"
   ]
  },
  {
   "cell_type": "code",
   "execution_count": 22,
   "metadata": {},
   "outputs": [],
   "source": [
    "from scipy import stats\n",
    "import scipy"
   ]
  },
  {
   "cell_type": "code",
   "execution_count": 23,
   "metadata": {},
   "outputs": [],
   "source": [
    "# regression modules\n",
    "from sklearn.linear_model import LinearRegression\n",
    "from sklearn.svm import SVR\n",
    "from sklearn.ensemble import RandomForestRegressor\n",
    "import statsmodels.api as sm\n",
    "from statsmodels.tools.tools import add_constant\n",
    "\n",
    "# model selection/evaluaiton\n",
    "from sklearn.model_selection import GridSearchCV, cross_val_score, cross_validate, train_test_split\n",
    "from sklearn.metrics import r2_score, mean_squared_error, mean_absolute_error"
   ]
  },
  {
   "cell_type": "code",
   "execution_count": 24,
   "metadata": {},
   "outputs": [],
   "source": [
    "# pre-processing modules\n",
    "from sklearn.preprocessing import PolynomialFeatures, StandardScaler\n",
    "from sklearn.decomposition import PCA"
   ]
  },
  {
   "cell_type": "code",
   "execution_count": 25,
   "metadata": {},
   "outputs": [],
   "source": [
    "def dict2array(items) -> Tuple[np.array, np.array]:\n",
    "    array = np.array(list(items))\n",
    "    return array.reshape(len(items), 1)"
   ]
  },
  {
   "cell_type": "code",
   "execution_count": 26,
   "metadata": {},
   "outputs": [],
   "source": [
    "def get_reg_metrics(y_true, pred, pred_nm) -> List[str]:\n",
    "    \"\"\"\n",
    "    return a list of formatted regression metrics\n",
    "    \"\"\"\n",
    "    r2 = r2_score(y, pred).round(3)\n",
    "    rmse = np.sqrt(mean_squared_error(y, pred)).round(3)\n",
    "    mae = mean_absolute_error(y, pred).round(3)\n",
    "    return [\n",
    "        f'pred_nm: {pred_nm}',\n",
    "        f'r2: {r2}',\n",
    "        f'rmse: {rmse}',\n",
    "        f'mae: {mae}', \n",
    "        f'std_y: {round(np.std(y), 3)}', \n",
    "        f'std_pred: {round(np.std(pred), 3)}', f'rmse/std_y: {round(rmse/np.std(pred), 3)}',\n",
    "           ]\n",
    "\n",
    "def show_padded_matrix(data: List[List], padding=2) -> None:\n",
    "    \"\"\"\n",
    "    print a padded matrix of a list of lists where each list is a row\n",
    "    \"\"\"\n",
    "    col_lens = [max((len(word) + padding for word in row)) for row in list(zip(*data))]\n",
    "    for row in metrics:\n",
    "        row_padded = [word.ljust(ln) for word, ln in zip(row, col_lens)]\n",
    "        print(''.join(row_padded))"
   ]
  },
  {
   "cell_type": "code",
   "execution_count": 27,
   "metadata": {},
   "outputs": [],
   "source": [
    "# creating toy data\n",
    "data = {x: 5 + x**2 for x in range(11)}\n",
    "data = {k: v/10 for k, v in data.items()}\n",
    "avg = [np.mean(list(data.values())) for i in data]\n",
    "test =  [1 + 1.2*x for x in data.keys()]\n",
    "\n",
    "df = pd.DataFrame(list(data.items()), columns=['x', 'y'])\n",
    "X, y = df[['x']], df['y']"
   ]
  },
  {
   "cell_type": "code",
   "execution_count": 28,
   "metadata": {},
   "outputs": [],
   "source": [
    "# fitting a linear model\n",
    "lm = LinearRegression()\n",
    "lm.fit(X, y)\n",
    "pred = lm.predict(X)\n",
    "\n",
    "X['x2'] = X ** 2\n",
    "lm.fit(X, y)\n",
    "pred_d2 = lm.predict(X)"
   ]
  },
  {
   "cell_type": "code",
   "execution_count": 29,
   "metadata": {},
   "outputs": [
    {
     "name": "stdout",
     "output_type": "stream",
     "text": [
      "pred_nm: pred     r2: 0.928  rmse: 0.883  mae: 0.764  std_y: 3.283  std_pred: 3.162  rmse/std_y: 0.279  \n",
      "pred_nm: avg      r2: 0.0    rmse: 3.283  mae: 2.818  std_y: 3.283  std_pred: 0.0    rmse/std_y: inf    \n",
      "pred_nm: test     r2: 0.056  rmse: 3.191  mae: 3.0    std_y: 3.283  std_pred: 3.795  rmse/std_y: 0.841  \n",
      "pred_nm: pred_d2  r2: 1.0    rmse: 0.0    mae: 0.0    std_y: 3.283  std_pred: 3.283  rmse/std_y: 0.0    \n"
     ]
    }
   ],
   "source": [
    "# at any given point it could be 11% of the values\n",
    "# at any given point it could be around 30% of the values\n",
    "preds = {'pred': pred, 'avg': avg, 'test': test, 'pred_d2': pred_d2}\n",
    "metrics = [get_reg_metrics(y, v_pred, k_nm) for k_nm, v_pred in preds.items()]\n",
    "show_padded_matrix(metrics)"
   ]
  },
  {
   "cell_type": "code",
   "execution_count": 30,
   "metadata": {},
   "outputs": [],
   "source": [
    "x_array = dict2array(data.keys())\n",
    "y_array = dict2array(data.values())"
   ]
  },
  {
   "cell_type": "code",
   "execution_count": 31,
   "metadata": {},
   "outputs": [
    {
     "data": {
      "text/plain": [
       "<matplotlib.legend.Legend at 0x1c9b6805e88>"
      ]
     },
     "execution_count": 31,
     "metadata": {},
     "output_type": "execute_result"
    },
    {
     "data": {
      "image/png": "[encoded data removed]",
      "text/plain": [
       "<Figure size 432x288 with 1 Axes>"
      ]
     },
     "metadata": {
      "needs_background": "light"
     },
     "output_type": "display_data"
    }
   ],
   "source": [
    "plt.plot(x_array, y_array, ls='none', marker='o', label='data')\n",
    "plt.plot(x_array, avg, ls='--', label='avg.')\n",
    "plt.plot(x_array, pred, label='lm')\n",
    "plt.plot(x_array, test, label='test')\n",
    "plt.plot(x_array, pred_d2, label='lm_d2')\n",
    "plt.legend()"
   ]
  },
  {
   "cell_type": "code",
   "execution_count": 32,
   "metadata": {},
   "outputs": [
    {
     "data": {
      "text/plain": [
       "0.6363636363636364"
      ]
     },
     "execution_count": 32,
     "metadata": {},
     "output_type": "execute_result"
    }
   ],
   "source": [
    "# justifying the 68, 95, 99.7 rule\n",
    "std = np.std(y)\n",
    "avg_ = np.mean(y)\n",
    "rang = [avg_ - std, avg_ + std]\n",
    "cond = (y > rang[0]) & (y < rang[1])\n",
    "y_filt = y[cond]\n",
    "y_filt.shape[0] / y.shape[0]"
   ]
  },
  {
   "cell_type": "code",
   "execution_count": 33,
   "metadata": {},
   "outputs": [
    {
     "data": {
      "text/plain": [
       "1.0"
      ]
     },
     "execution_count": 33,
     "metadata": {},
     "output_type": "execute_result"
    }
   ],
   "source": [
    "rang = [avg_ - 2*std, avg_ + 2*std]\n",
    "cond = (y > rang[0]) & (y < rang[1])\n",
    "y_filt = y[cond]\n",
    "y_filt.shape[0] / y.shape[0]"
   ]
  },
  {
   "cell_type": "markdown",
   "metadata": {},
   "source": [
    "#### Again but with feature scalling"
   ]
  },
  {
   "cell_type": "code",
   "execution_count": 34,
   "metadata": {},
   "outputs": [],
   "source": [
    "# creating toy data\n",
    "data = {x: 5 + x**2 for x in range(11)}\n",
    "data = {k: v/10 for k, v in data.items()}\n",
    "test =  [-0.5 + 0.12*x for x in data.keys()]\n",
    "\n",
    "df = pd.DataFrame(list(data.items()), columns=['x', 'y'])\n",
    "X, y = df[['x']], df[['y']]\n"
   ]
  },
  {
   "cell_type": "code",
   "execution_count": 35,
   "metadata": {},
   "outputs": [],
   "source": [
    "# feature scaling\n",
    "sc_x = StandardScaler()\n",
    "sc_y = StandardScaler()\n",
    "X = sc_x.fit_transform(X)\n",
    "y = sc_y.fit_transform(y)\n",
    "avg = [X.mean() for i in range(X.shape[0])]"
   ]
  },
  {
   "cell_type": "code",
   "execution_count": 36,
   "metadata": {},
   "outputs": [],
   "source": [
    "# fitting a linear model\n",
    "lm = LinearRegression()\n",
    "lm.fit(X, y)\n",
    "pred = lm.predict(X)\n",
    "\n",
    "X = pd.DataFrame(X, columns=['x'])\n",
    "X['x2'] = X ** 2\n",
    "lm.fit(X, y)\n",
    "pred_d2 = lm.predict(X)"
   ]
  },
  {
   "cell_type": "code",
   "execution_count": 37,
   "metadata": {},
   "outputs": [
    {
     "name": "stdout",
     "output_type": "stream",
     "text": [
      "pred_nm: pred     r2: 0.928  rmse: 0.269  mae: 0.233  std_y: 1.0  std_pred: 0.963  rmse/std_y: 0.279                  \n",
      "pred_nm: avg      r2: 0.0    rmse: 1.0    mae: 0.858  std_y: 1.0  std_pred: 0.0    rmse/std_y: 8.112963841460668e+31  \n",
      "pred_nm: test     r2: 0.577  rmse: 0.65   mae: 0.575  std_y: 1.0  std_pred: 0.379  rmse/std_y: 1.713                  \n",
      "pred_nm: pred_d2  r2: 1.0    rmse: 0.0    mae: 0.0    std_y: 1.0  std_pred: 1.0    rmse/std_y: 0.0                    \n"
     ]
    }
   ],
   "source": [
    "# at any given point the linear reg could be 11% of the values\n",
    "# at any given point the random linear line could be around 30% of the values\n",
    "preds = {'pred': pred, 'avg': avg, 'test': test, 'pred_d2': pred_d2}\n",
    "metrics = [get_reg_metrics(y, v_pred, k_nm) for k_nm, v_pred in preds.items()]\n",
    "show_padded_matrix(metrics)"
   ]
  },
  {
   "cell_type": "code",
   "execution_count": 38,
   "metadata": {},
   "outputs": [
    {
     "data": {
      "text/plain": [
       "<matplotlib.legend.Legend at 0x1c9b689e948>"
      ]
     },
     "execution_count": 38,
     "metadata": {},
     "output_type": "execute_result"
    },
    {
     "data": {
      "image/png": "[encoded data removed]",
      "text/plain": [
       "<Figure size 432x288 with 1 Axes>"
      ]
     },
     "metadata": {
      "needs_background": "light"
     },
     "output_type": "display_data"
    }
   ],
   "source": [
    "plt.plot(X['x'], y, ls='none', marker='o', label='data')\n",
    "plt.plot(X['x'], avg, ls='--', label='avg.')\n",
    "plt.plot(X['x'], pred, label='lm')\n",
    "plt.plot(X['x'], test, label='test')\n",
    "plt.plot(X['x'], pred_d2, label='lm_d2')\n",
    "plt.legend()"
   ]
  },
  {
   "cell_type": "code",
   "execution_count": 39,
   "metadata": {},
   "outputs": [
    {
     "data": {
      "text/plain": [
       "0.6363636363636364"
      ]
     },
     "execution_count": 39,
     "metadata": {},
     "output_type": "execute_result"
    }
   ],
   "source": [
    "# justifying the 68, 95, 99.7 rule\n",
    "std = np.std(y)\n",
    "avg_ = np.mean(y)\n",
    "rang = [avg_ - std, avg_ + std]\n",
    "cond = (y > rang[0]) & (y < rang[1])\n",
    "y_filt = y[cond]\n",
    "y_filt.shape[0] / y.shape[0]"
   ]
  },
  {
   "cell_type": "code",
   "execution_count": 40,
   "metadata": {},
   "outputs": [
    {
     "data": {
      "text/plain": [
       "1.0"
      ]
     },
     "execution_count": 40,
     "metadata": {},
     "output_type": "execute_result"
    }
   ],
   "source": [
    "rang = [avg_ - 2*std, avg_ + 2*std]\n",
    "cond = (y > rang[0]) & (y < rang[1])\n",
    "y_filt = y[cond]\n",
    "y_filt.shape[0] / y.shape[0]"
   ]
  },
  {
   "cell_type": "markdown",
   "metadata": {},
   "source": [
    "### Confidence intervals and prediction intervals"
   ]
  },
  {
   "cell_type": "code",
   "execution_count": 41,
   "metadata": {},
   "outputs": [],
   "source": [
    "class Relationship:\n",
    "    \"\"\"\n",
    "    \n",
    "    \"\"\"\n",
    "    def __init__(self, points=50):\n",
    "        self.points = points\n",
    "        self.x = np.arange(self.points).reshape(-1,1)\n",
    "\n",
    "    @property\n",
    "    def y(self):        \n",
    "        y = 4 + self.x**2 + self.x**3 + self.x**4\n",
    "        y = y / y.max()\n",
    "        y = y + np.random.normal(0, .1, self.points).reshape(-1,1) + 3\n",
    "        return y.reshape(-1,1)\n",
    "\n",
    "    @property\n",
    "    def x_const(self):\n",
    "        return np.hstack((np.ones(50).reshape(-1,1), self.x.reshape(-1,1)))\n",
    "    \n",
    "    @property\n",
    "    def x_poly(self):\n",
    "        return np.hstack((self.x_const, self.x ** 2))\n",
    "    \n",
    "    @property\n",
    "    def model(self):\n",
    "        return sm.OLS(self.y, self.x_const).fit()\n",
    "    \n",
    "    @property\n",
    "    def poly_model(self):\n",
    "        return sm.OLS(self.y, self.x_poly).fit()\n",
    "    \n",
    "    @property\n",
    "    def ci(self):\n",
    "        st, data, ss2 = summary_table(self.model)\n",
    "        mean_ci_low, mean_ci_upp = data[:,4:6].T\n",
    "        ci_low, ci_upp = data[:,6:8].T\n",
    "        return (mean_ci_low, mean_ci_upp, ci_low, ci_upp)\n",
    "    \n",
    "    @property\n",
    "    def ci_poly(self):\n",
    "        st, data, ss2 = summary_table(self.poly_model)\n",
    "        mean_ci_low, mean_ci_upp = data[:,4:6].T\n",
    "        ci_low, ci_upp = data[:,6:8].T\n",
    "        return (mean_ci_low, mean_ci_upp, ci_low, ci_upp)\n",
    "    \n",
    "    def plot_xy(self):\n",
    "        fig, ax = plt.subplots(figsize=(8, 5))\n",
    "        ax.scatter(self.x, self.y, label='points')\n",
    "        ax.plot(self.x, self.model.predict(self.x_const), label='linear')\n",
    "        ax.plot(self.x, self.poly_model.predict(self.x_poly), label='poly')\n",
    "        \n",
    "#         ax.plot(self.x, self.ci[0], label='mean_ci_low', c='green', ls='--')\n",
    "#         ax.plot(self.x, self.ci[1], label='mean_ci_upp', c='green', ls='--')\n",
    "#         ax.plot(self.x, self.ci[2], label='pred_ci_low', c='purple', ls='--')\n",
    "#         ax.plot(self.x, self.ci[3], label='pred_ci_upp', c='purple', ls='--')\n",
    "        \n",
    "        ax.plot(self.x, self.ci_poly[0], label='mean_ci_low', c='green', ls='--')\n",
    "        ax.plot(self.x, self.ci_poly[1], label='mean_ci_upp', c='green', ls='--')\n",
    "        ax.plot(self.x, self.ci_poly[2], label='pred_ci_low', c='purple', ls='--')\n",
    "        ax.plot(self.x, self.ci_poly[3], label='pred_ci_upp', c='purple', ls='--')\n",
    "        return (fig, ax)"
   ]
  },
  {
   "cell_type": "code",
   "execution_count": 42,
   "metadata": {},
   "outputs": [],
   "source": [
    "from statsmodels.stats.outliers_influence import summary_table"
   ]
  },
  {
   "cell_type": "code",
   "execution_count": 43,
   "metadata": {},
   "outputs": [
    {
     "data": {
      "text/plain": [
       "(<Figure size 576x360 with 1 Axes>,\n",
       " <matplotlib.axes._subplots.AxesSubplot at 0x1c9b6906a08>)"
      ]
     },
     "execution_count": 43,
     "metadata": {},
     "output_type": "execute_result"
    },
    {
     "data": {
      "image/png": "[encoded data removed]",
      "text/plain": [
       "<Figure size 576x360 with 1 Axes>"
      ]
     },
     "metadata": {
      "needs_background": "light"
     },
     "output_type": "display_data"
    }
   ],
   "source": [
    "relation = Relationship()\n",
    "\n",
    "relation.plot_xy()"
   ]
  },
  {
   "cell_type": "code",
   "execution_count": 44,
   "metadata": {},
   "outputs": [
    {
     "data": {
      "text/html": [
       "<table class=\"simpletable\">\n",
       "<caption>OLS Regression Results</caption>\n",
       "<tr>\n",
       "  <th>Dep. Variable:</th>            <td>y</td>        <th>  R-squared:         </th> <td>   0.673</td>\n",
       "</tr>\n",
       "<tr>\n",
       "  <th>Model:</th>                   <td>OLS</td>       <th>  Adj. R-squared:    </th> <td>   0.666</td>\n",
       "</tr>\n",
       "<tr>\n",
       "  <th>Method:</th>             <td>Least Squares</td>  <th>  F-statistic:       </th> <td>   98.88</td>\n",
       "</tr>\n",
       "<tr>\n",
       "  <th>Date:</th>             <td>Mon, 27 Jan 2020</td> <th>  Prob (F-statistic):</th> <td>3.04e-13</td>\n",
       "</tr>\n",
       "<tr>\n",
       "  <th>Time:</th>                 <td>15:52:21</td>     <th>  Log-Likelihood:    </th> <td>  17.185</td>\n",
       "</tr>\n",
       "<tr>\n",
       "  <th>No. Observations:</th>      <td>    50</td>      <th>  AIC:               </th> <td>  -30.37</td>\n",
       "</tr>\n",
       "<tr>\n",
       "  <th>Df Residuals:</th>          <td>    48</td>      <th>  BIC:               </th> <td>  -26.55</td>\n",
       "</tr>\n",
       "<tr>\n",
       "  <th>Df Model:</th>              <td>     1</td>      <th>                     </th>     <td> </td>   \n",
       "</tr>\n",
       "<tr>\n",
       "  <th>Covariance Type:</th>      <td>nonrobust</td>    <th>                     </th>     <td> </td>   \n",
       "</tr>\n",
       "</table>\n",
       "<table class=\"simpletable\">\n",
       "<tr>\n",
       "    <td></td>       <th>coef</th>     <th>std err</th>      <th>t</th>      <th>P>|t|</th>  <th>[0.025</th>    <th>0.975]</th>  \n",
       "</tr>\n",
       "<tr>\n",
       "  <th>const</th> <td>    2.7934</td> <td>    0.049</td> <td>   57.242</td> <td> 0.000</td> <td>    2.695</td> <td>    2.892</td>\n",
       "</tr>\n",
       "<tr>\n",
       "  <th>x1</th>    <td>    0.0171</td> <td>    0.002</td> <td>    9.944</td> <td> 0.000</td> <td>    0.014</td> <td>    0.021</td>\n",
       "</tr>\n",
       "</table>\n",
       "<table class=\"simpletable\">\n",
       "<tr>\n",
       "  <th>Omnibus:</th>       <td> 1.884</td> <th>  Durbin-Watson:     </th> <td>   0.607</td>\n",
       "</tr>\n",
       "<tr>\n",
       "  <th>Prob(Omnibus):</th> <td> 0.390</td> <th>  Jarque-Bera (JB):  </th> <td>   1.793</td>\n",
       "</tr>\n",
       "<tr>\n",
       "  <th>Skew:</th>          <td> 0.381</td> <th>  Prob(JB):          </th> <td>   0.408</td>\n",
       "</tr>\n",
       "<tr>\n",
       "  <th>Kurtosis:</th>      <td> 2.470</td> <th>  Cond. No.          </th> <td>    56.1</td>\n",
       "</tr>\n",
       "</table><br/><br/>Warnings:<br/>[1] Standard Errors assume that the covariance matrix of the errors is correctly specified."
      ],
      "text/plain": [
       "<class 'statsmodels.iolib.summary.Summary'>\n",
       "\"\"\"\n",
       "                            OLS Regression Results                            \n",
       "==============================================================================\n",
       "Dep. Variable:                      y   R-squared:                       0.673\n",
       "Model:                            OLS   Adj. R-squared:                  0.666\n",
       "Method:                 Least Squares   F-statistic:                     98.88\n",
       "Date:                Mon, 27 Jan 2020   Prob (F-statistic):           3.04e-13\n",
       "Time:                        15:52:21   Log-Likelihood:                 17.185\n",
       "No. Observations:                  50   AIC:                            -30.37\n",
       "Df Residuals:                      48   BIC:                            -26.55\n",
       "Df Model:                           1                                         \n",
       "Covariance Type:            nonrobust                                         \n",
       "==============================================================================\n",
       "                 coef    std err          t      P>|t|      [0.025      0.975]\n",
       "------------------------------------------------------------------------------\n",
       "const          2.7934      0.049     57.242      0.000       2.695       2.892\n",
       "x1             0.0171      0.002      9.944      0.000       0.014       0.021\n",
       "==============================================================================\n",
       "Omnibus:                        1.884   Durbin-Watson:                   0.607\n",
       "Prob(Omnibus):                  0.390   Jarque-Bera (JB):                1.793\n",
       "Skew:                           0.381   Prob(JB):                        0.408\n",
       "Kurtosis:                       2.470   Cond. No.                         56.1\n",
       "==============================================================================\n",
       "\n",
       "Warnings:\n",
       "[1] Standard Errors assume that the covariance matrix of the errors is correctly specified.\n",
       "\"\"\""
      ]
     },
     "execution_count": 44,
     "metadata": {},
     "output_type": "execute_result"
    }
   ],
   "source": [
    "relation.model.summary()"
   ]
  },
  {
   "cell_type": "code",
   "execution_count": 45,
   "metadata": {},
   "outputs": [
    {
     "data": {
      "text/html": [
       "<table class=\"simpletable\">\n",
       "<caption>OLS Regression Results</caption>\n",
       "<tr>\n",
       "  <th>Dep. Variable:</th>            <td>y</td>        <th>  R-squared:         </th> <td>   0.895</td>\n",
       "</tr>\n",
       "<tr>\n",
       "  <th>Model:</th>                   <td>OLS</td>       <th>  Adj. R-squared:    </th> <td>   0.890</td>\n",
       "</tr>\n",
       "<tr>\n",
       "  <th>Method:</th>             <td>Least Squares</td>  <th>  F-statistic:       </th> <td>   199.3</td>\n",
       "</tr>\n",
       "<tr>\n",
       "  <th>Date:</th>             <td>Mon, 27 Jan 2020</td> <th>  Prob (F-statistic):</th> <td>1.10e-23</td>\n",
       "</tr>\n",
       "<tr>\n",
       "  <th>Time:</th>                 <td>15:52:21</td>     <th>  Log-Likelihood:    </th> <td>  46.718</td>\n",
       "</tr>\n",
       "<tr>\n",
       "  <th>No. Observations:</th>      <td>    50</td>      <th>  AIC:               </th> <td>  -87.44</td>\n",
       "</tr>\n",
       "<tr>\n",
       "  <th>Df Residuals:</th>          <td>    47</td>      <th>  BIC:               </th> <td>  -81.70</td>\n",
       "</tr>\n",
       "<tr>\n",
       "  <th>Df Model:</th>              <td>     2</td>      <th>                     </th>     <td> </td>   \n",
       "</tr>\n",
       "<tr>\n",
       "  <th>Covariance Type:</th>      <td>nonrobust</td>    <th>                     </th>     <td> </td>   \n",
       "</tr>\n",
       "</table>\n",
       "<table class=\"simpletable\">\n",
       "<tr>\n",
       "    <td></td>       <th>coef</th>     <th>std err</th>      <th>t</th>      <th>P>|t|</th>  <th>[0.025</th>    <th>0.975]</th>  \n",
       "</tr>\n",
       "<tr>\n",
       "  <th>const</th> <td>    3.0638</td> <td>    0.040</td> <td>   76.623</td> <td> 0.000</td> <td>    2.983</td> <td>    3.144</td>\n",
       "</tr>\n",
       "<tr>\n",
       "  <th>x1</th>    <td>   -0.0151</td> <td>    0.004</td> <td>   -4.013</td> <td> 0.000</td> <td>   -0.023</td> <td>   -0.008</td>\n",
       "</tr>\n",
       "<tr>\n",
       "  <th>x2</th>    <td>    0.0007</td> <td> 7.45e-05</td> <td>    8.860</td> <td> 0.000</td> <td>    0.001</td> <td>    0.001</td>\n",
       "</tr>\n",
       "</table>\n",
       "<table class=\"simpletable\">\n",
       "<tr>\n",
       "  <th>Omnibus:</th>       <td> 0.244</td> <th>  Durbin-Watson:     </th> <td>   1.845</td>\n",
       "</tr>\n",
       "<tr>\n",
       "  <th>Prob(Omnibus):</th> <td> 0.885</td> <th>  Jarque-Bera (JB):  </th> <td>   0.188</td>\n",
       "</tr>\n",
       "<tr>\n",
       "  <th>Skew:</th>          <td>-0.138</td> <th>  Prob(JB):          </th> <td>   0.910</td>\n",
       "</tr>\n",
       "<tr>\n",
       "  <th>Kurtosis:</th>      <td> 2.882</td> <th>  Cond. No.          </th> <td>3.16e+03</td>\n",
       "</tr>\n",
       "</table><br/><br/>Warnings:<br/>[1] Standard Errors assume that the covariance matrix of the errors is correctly specified.<br/>[2] The condition number is large, 3.16e+03. This might indicate that there are<br/>strong multicollinearity or other numerical problems."
      ],
      "text/plain": [
       "<class 'statsmodels.iolib.summary.Summary'>\n",
       "\"\"\"\n",
       "                            OLS Regression Results                            \n",
       "==============================================================================\n",
       "Dep. Variable:                      y   R-squared:                       0.895\n",
       "Model:                            OLS   Adj. R-squared:                  0.890\n",
       "Method:                 Least Squares   F-statistic:                     199.3\n",
       "Date:                Mon, 27 Jan 2020   Prob (F-statistic):           1.10e-23\n",
       "Time:                        15:52:21   Log-Likelihood:                 46.718\n",
       "No. Observations:                  50   AIC:                            -87.44\n",
       "Df Residuals:                      47   BIC:                            -81.70\n",
       "Df Model:                           2                                         \n",
       "Covariance Type:            nonrobust                                         \n",
       "==============================================================================\n",
       "                 coef    std err          t      P>|t|      [0.025      0.975]\n",
       "------------------------------------------------------------------------------\n",
       "const          3.0638      0.040     76.623      0.000       2.983       3.144\n",
       "x1            -0.0151      0.004     -4.013      0.000      -0.023      -0.008\n",
       "x2             0.0007   7.45e-05      8.860      0.000       0.001       0.001\n",
       "==============================================================================\n",
       "Omnibus:                        0.244   Durbin-Watson:                   1.845\n",
       "Prob(Omnibus):                  0.885   Jarque-Bera (JB):                0.188\n",
       "Skew:                          -0.138   Prob(JB):                        0.910\n",
       "Kurtosis:                       2.882   Cond. No.                     3.16e+03\n",
       "==============================================================================\n",
       "\n",
       "Warnings:\n",
       "[1] Standard Errors assume that the covariance matrix of the errors is correctly specified.\n",
       "[2] The condition number is large, 3.16e+03. This might indicate that there are\n",
       "strong multicollinearity or other numerical problems.\n",
       "\"\"\""
      ]
     },
     "execution_count": 45,
     "metadata": {},
     "output_type": "execute_result"
    }
   ],
   "source": [
    "relation.poly_model.summary()"
   ]
  },
  {
   "cell_type": "code",
   "execution_count": 46,
   "metadata": {},
   "outputs": [],
   "source": [
    "from statsmodels.tools import eval_measures"
   ]
  },
  {
   "cell_type": "code",
   "execution_count": 48,
   "metadata": {},
   "outputs": [],
   "source": [
    "mod = relation.poly_model"
   ]
  },
  {
   "cell_type": "code",
   "execution_count": 50,
   "metadata": {},
   "outputs": [
    {
     "data": {
      "text/plain": [
       "array([[ 3.00517821e+00,  3.17370087e+00],\n",
       "       [-2.94206124e-02, -1.35146740e-02],\n",
       "       [ 6.18192025e-04,  9.32107356e-04]])"
      ]
     },
     "execution_count": 50,
     "metadata": {},
     "output_type": "execute_result"
    }
   ],
   "source": [
    "mod.conf_int()"
   ]
  },
  {
   "cell_type": "code",
   "execution_count": 49,
   "metadata": {},
   "outputs": [
    {
     "data": {
      "text/html": [
       "<table class=\"simpletable\">\n",
       "<caption>OLS Regression Results</caption>\n",
       "<tr>\n",
       "  <th>Dep. Variable:</th>            <td>y</td>        <th>  R-squared:         </th> <td>   0.887</td>\n",
       "</tr>\n",
       "<tr>\n",
       "  <th>Model:</th>                   <td>OLS</td>       <th>  Adj. R-squared:    </th> <td>   0.882</td>\n",
       "</tr>\n",
       "<tr>\n",
       "  <th>Method:</th>             <td>Least Squares</td>  <th>  F-statistic:       </th> <td>   184.0</td>\n",
       "</tr>\n",
       "<tr>\n",
       "  <th>Date:</th>             <td>Mon, 27 Jan 2020</td> <th>  Prob (F-statistic):</th> <td>5.90e-23</td>\n",
       "</tr>\n",
       "<tr>\n",
       "  <th>Time:</th>                 <td>15:53:04</td>     <th>  Log-Likelihood:    </th> <td>  44.398</td>\n",
       "</tr>\n",
       "<tr>\n",
       "  <th>No. Observations:</th>      <td>    50</td>      <th>  AIC:               </th> <td>  -82.80</td>\n",
       "</tr>\n",
       "<tr>\n",
       "  <th>Df Residuals:</th>          <td>    47</td>      <th>  BIC:               </th> <td>  -77.06</td>\n",
       "</tr>\n",
       "<tr>\n",
       "  <th>Df Model:</th>              <td>     2</td>      <th>                     </th>     <td> </td>   \n",
       "</tr>\n",
       "<tr>\n",
       "  <th>Covariance Type:</th>      <td>nonrobust</td>    <th>                     </th>     <td> </td>   \n",
       "</tr>\n",
       "</table>\n",
       "<table class=\"simpletable\">\n",
       "<tr>\n",
       "    <td></td>       <th>coef</th>     <th>std err</th>      <th>t</th>      <th>P>|t|</th>  <th>[0.025</th>    <th>0.975]</th>  \n",
       "</tr>\n",
       "<tr>\n",
       "  <th>const</th> <td>    3.0894</td> <td>    0.042</td> <td>   73.760</td> <td> 0.000</td> <td>    3.005</td> <td>    3.174</td>\n",
       "</tr>\n",
       "<tr>\n",
       "  <th>x1</th>    <td>   -0.0215</td> <td>    0.004</td> <td>   -5.430</td> <td> 0.000</td> <td>   -0.029</td> <td>   -0.014</td>\n",
       "</tr>\n",
       "<tr>\n",
       "  <th>x2</th>    <td>    0.0008</td> <td>  7.8e-05</td> <td>    9.935</td> <td> 0.000</td> <td>    0.001</td> <td>    0.001</td>\n",
       "</tr>\n",
       "</table>\n",
       "<table class=\"simpletable\">\n",
       "<tr>\n",
       "  <th>Omnibus:</th>       <td> 0.248</td> <th>  Durbin-Watson:     </th> <td>   2.203</td>\n",
       "</tr>\n",
       "<tr>\n",
       "  <th>Prob(Omnibus):</th> <td> 0.883</td> <th>  Jarque-Bera (JB):  </th> <td>   0.216</td>\n",
       "</tr>\n",
       "<tr>\n",
       "  <th>Skew:</th>          <td>-0.145</td> <th>  Prob(JB):          </th> <td>   0.898</td>\n",
       "</tr>\n",
       "<tr>\n",
       "  <th>Kurtosis:</th>      <td> 2.860</td> <th>  Cond. No.          </th> <td>3.16e+03</td>\n",
       "</tr>\n",
       "</table><br/><br/>Warnings:<br/>[1] Standard Errors assume that the covariance matrix of the errors is correctly specified.<br/>[2] The condition number is large, 3.16e+03. This might indicate that there are<br/>strong multicollinearity or other numerical problems."
      ],
      "text/plain": [
       "<class 'statsmodels.iolib.summary.Summary'>\n",
       "\"\"\"\n",
       "                            OLS Regression Results                            \n",
       "==============================================================================\n",
       "Dep. Variable:                      y   R-squared:                       0.887\n",
       "Model:                            OLS   Adj. R-squared:                  0.882\n",
       "Method:                 Least Squares   F-statistic:                     184.0\n",
       "Date:                Mon, 27 Jan 2020   Prob (F-statistic):           5.90e-23\n",
       "Time:                        15:53:04   Log-Likelihood:                 44.398\n",
       "No. Observations:                  50   AIC:                            -82.80\n",
       "Df Residuals:                      47   BIC:                            -77.06\n",
       "Df Model:                           2                                         \n",
       "Covariance Type:            nonrobust                                         \n",
       "==============================================================================\n",
       "                 coef    std err          t      P>|t|      [0.025      0.975]\n",
       "------------------------------------------------------------------------------\n",
       "const          3.0894      0.042     73.760      0.000       3.005       3.174\n",
       "x1            -0.0215      0.004     -5.430      0.000      -0.029      -0.014\n",
       "x2             0.0008    7.8e-05      9.935      0.000       0.001       0.001\n",
       "==============================================================================\n",
       "Omnibus:                        0.248   Durbin-Watson:                   2.203\n",
       "Prob(Omnibus):                  0.883   Jarque-Bera (JB):                0.216\n",
       "Skew:                          -0.145   Prob(JB):                        0.898\n",
       "Kurtosis:                       2.860   Cond. No.                     3.16e+03\n",
       "==============================================================================\n",
       "\n",
       "Warnings:\n",
       "[1] Standard Errors assume that the covariance matrix of the errors is correctly specified.\n",
       "[2] The condition number is large, 3.16e+03. This might indicate that there are\n",
       "strong multicollinearity or other numerical problems.\n",
       "\"\"\""
      ]
     },
     "execution_count": 49,
     "metadata": {},
     "output_type": "execute_result"
    }
   ],
   "source": [
    "mod.summary()"
   ]
  }
 ],
 "metadata": {
  "kernelspec": {
   "display_name": "Python 3",
   "language": "python",
   "name": "python3"
  },
  "language_info": {
   "codemirror_mode": {
    "name": "ipython",
    "version": 3
   },
   "file_extension": ".py",
   "mimetype": "text/x-python",
   "name": "python",
   "nbconvert_exporter": "python",
   "pygments_lexer": "ipython3",
   "version": "3.7.4"
  }
 },
 "nbformat": 4,
 "nbformat_minor": 4
}
